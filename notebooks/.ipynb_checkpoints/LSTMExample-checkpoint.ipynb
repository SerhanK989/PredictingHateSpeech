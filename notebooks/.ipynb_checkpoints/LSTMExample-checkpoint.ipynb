{
 "cells": [
  {
   "cell_type": "code",
   "execution_count": 2,
   "metadata": {},
   "outputs": [],
   "source": [
    "import pandas as pd\n",
    "import numpy as np\n",
    "import nltk\n",
    "from nltk.corpus import stopwords\n",
    "from nltk.stem import WordNetLemmatizer \n",
    "from sklearn import feature_extraction, linear_model, model_selection, metrics\n",
    "from sklearn import ensemble\n",
    "from scipy import sparse\n",
    "import sys\n",
    "sys.path.append(\"..\")\n",
    "from src.make_model_lstm import hate_speech_model\n",
    "from src.lstm_cleaner import lstm_cleaner\n",
    "import tensorflow as tf\n",
    "from tensorflow.core.protobuf import rewriter_config_pb2\n",
    "from tensorflow.keras.backend import set_session"
   ]
  },
  {
   "cell_type": "code",
   "execution_count": 3,
   "metadata": {},
   "outputs": [],
   "source": [
    "%load_ext autoreload\n",
    "%autoreload 2"
   ]
  },
  {
   "cell_type": "markdown",
   "metadata": {},
   "source": [
    "This is an example of running our data through our LSTM pipeline and then pushing that through our LSTM."
   ]
  },
  {
   "cell_type": "code",
   "execution_count": 4,
   "metadata": {},
   "outputs": [],
   "source": [
    "#tensorflow plays weirdly in notebook sometimes, this block takes care of that\n",
    "tf.keras.backend.clear_session()  # For easy reset of notebook state.\n",
    "\n",
    "config_proto = tf.ConfigProto()\n",
    "off = rewriter_config_pb2.RewriterConfig.OFF\n",
    "config_proto.graph_options.rewrite_options.arithmetic_optimization = off\n",
    "session = tf.Session(config=config_proto)\n",
    "set_session(session)"
   ]
  },
  {
   "cell_type": "code",
   "execution_count": 5,
   "metadata": {},
   "outputs": [],
   "source": [
    "df = pd.read_csv('../data/labeled_data.csv')"
   ]
  },
  {
   "cell_type": "code",
   "execution_count": 6,
   "metadata": {},
   "outputs": [
    {
     "data": {
      "text/html": [
       "<div>\n",
       "<style scoped>\n",
       "    .dataframe tbody tr th:only-of-type {\n",
       "        vertical-align: middle;\n",
       "    }\n",
       "\n",
       "    .dataframe tbody tr th {\n",
       "        vertical-align: top;\n",
       "    }\n",
       "\n",
       "    .dataframe thead th {\n",
       "        text-align: right;\n",
       "    }\n",
       "</style>\n",
       "<table border=\"1\" class=\"dataframe\">\n",
       "  <thead>\n",
       "    <tr style=\"text-align: right;\">\n",
       "      <th></th>\n",
       "      <th>Unnamed: 0</th>\n",
       "      <th>count</th>\n",
       "      <th>hate_speech</th>\n",
       "      <th>offensive_language</th>\n",
       "      <th>neither</th>\n",
       "      <th>class</th>\n",
       "      <th>tweet</th>\n",
       "    </tr>\n",
       "  </thead>\n",
       "  <tbody>\n",
       "    <tr>\n",
       "      <th>0</th>\n",
       "      <td>0</td>\n",
       "      <td>3</td>\n",
       "      <td>0</td>\n",
       "      <td>0</td>\n",
       "      <td>3</td>\n",
       "      <td>2</td>\n",
       "      <td>!!! RT @mayasolovely: As a woman you shouldn't...</td>\n",
       "    </tr>\n",
       "    <tr>\n",
       "      <th>1</th>\n",
       "      <td>1</td>\n",
       "      <td>3</td>\n",
       "      <td>0</td>\n",
       "      <td>3</td>\n",
       "      <td>0</td>\n",
       "      <td>1</td>\n",
       "      <td>!!!!! RT @mleew17: boy dats cold...tyga dwn ba...</td>\n",
       "    </tr>\n",
       "    <tr>\n",
       "      <th>2</th>\n",
       "      <td>2</td>\n",
       "      <td>3</td>\n",
       "      <td>0</td>\n",
       "      <td>3</td>\n",
       "      <td>0</td>\n",
       "      <td>1</td>\n",
       "      <td>!!!!!!! RT @UrKindOfBrand Dawg!!!! RT @80sbaby...</td>\n",
       "    </tr>\n",
       "    <tr>\n",
       "      <th>3</th>\n",
       "      <td>3</td>\n",
       "      <td>3</td>\n",
       "      <td>0</td>\n",
       "      <td>2</td>\n",
       "      <td>1</td>\n",
       "      <td>1</td>\n",
       "      <td>!!!!!!!!! RT @C_G_Anderson: @viva_based she lo...</td>\n",
       "    </tr>\n",
       "    <tr>\n",
       "      <th>4</th>\n",
       "      <td>4</td>\n",
       "      <td>6</td>\n",
       "      <td>0</td>\n",
       "      <td>6</td>\n",
       "      <td>0</td>\n",
       "      <td>1</td>\n",
       "      <td>!!!!!!!!!!!!! RT @ShenikaRoberts: The shit you...</td>\n",
       "    </tr>\n",
       "  </tbody>\n",
       "</table>\n",
       "</div>"
      ],
      "text/plain": [
       "   Unnamed: 0  count  hate_speech  offensive_language  neither  class  \\\n",
       "0           0      3            0                   0        3      2   \n",
       "1           1      3            0                   3        0      1   \n",
       "2           2      3            0                   3        0      1   \n",
       "3           3      3            0                   2        1      1   \n",
       "4           4      6            0                   6        0      1   \n",
       "\n",
       "                                               tweet  \n",
       "0  !!! RT @mayasolovely: As a woman you shouldn't...  \n",
       "1  !!!!! RT @mleew17: boy dats cold...tyga dwn ba...  \n",
       "2  !!!!!!! RT @UrKindOfBrand Dawg!!!! RT @80sbaby...  \n",
       "3  !!!!!!!!! RT @C_G_Anderson: @viva_based she lo...  \n",
       "4  !!!!!!!!!!!!! RT @ShenikaRoberts: The shit you...  "
      ]
     },
     "execution_count": 6,
     "metadata": {},
     "output_type": "execute_result"
    }
   ],
   "source": [
    "df.head()"
   ]
  },
  {
   "cell_type": "code",
   "execution_count": 7,
   "metadata": {},
   "outputs": [],
   "source": [
    "c = lstm_cleaner()\n",
    "sequences = c.fit_transform(df['tweet'])"
   ]
  },
  {
   "cell_type": "code",
   "execution_count": 8,
   "metadata": {},
   "outputs": [],
   "source": [
    "y = df['class']"
   ]
  },
  {
   "cell_type": "code",
   "execution_count": 9,
   "metadata": {},
   "outputs": [],
   "source": [
    "y_cat = np.zeros((len(y), 3))\n",
    "for i, l in enumerate(y):\n",
    "    y_cat[i, l] = 1"
   ]
  },
  {
   "cell_type": "code",
   "execution_count": 10,
   "metadata": {},
   "outputs": [],
   "source": [
    "X_train, X_test, y_train, y_test = model_selection.train_test_split(sequences, y_cat, test_size = .1)"
   ]
  },
  {
   "cell_type": "code",
   "execution_count": 11,
   "metadata": {},
   "outputs": [
    {
     "name": "stdout",
     "output_type": "stream",
     "text": [
      "WARNING:tensorflow:From /home/ubuntu/.local/lib/python3.6/site-packages/tensorflow/python/keras/initializers.py:119: calling RandomUniform.__init__ (from tensorflow.python.ops.init_ops) with dtype is deprecated and will be removed in a future version.\n",
      "Instructions for updating:\n",
      "Call initializer instance with the dtype argument instead of passing it to the constructor\n",
      "WARNING:tensorflow:From /home/ubuntu/.local/lib/python3.6/site-packages/tensorflow/python/ops/init_ops.py:1251: calling VarianceScaling.__init__ (from tensorflow.python.ops.init_ops) with dtype is deprecated and will be removed in a future version.\n",
      "Instructions for updating:\n",
      "Call initializer instance with the dtype argument instead of passing it to the constructor\n",
      ">> Compiled...\n",
      "Train on 21188 samples, validate on 1116 samples\n",
      "WARNING:tensorflow:From /home/ubuntu/.local/lib/python3.6/site-packages/tensorflow/python/ops/math_grad.py:1250: add_dispatch_support.<locals>.wrapper (from tensorflow.python.ops.array_ops) is deprecated and will be removed in a future version.\n",
      "Instructions for updating:\n",
      "Use tf.where in 2.0, which has the same broadcast rule as np.where\n",
      "Epoch 1/100\n",
      "21188/21188 [==============================] - 59s 3ms/sample - loss: 0.1324 - val_loss: 0.1281\n",
      "Epoch 2/100\n",
      "21188/21188 [==============================] - 57s 3ms/sample - loss: 0.1310 - val_loss: 0.1267\n",
      "Epoch 3/100\n",
      "21188/21188 [==============================] - 57s 3ms/sample - loss: 0.1292 - val_loss: 0.1247\n",
      "Epoch 4/100\n",
      "21188/21188 [==============================] - 57s 3ms/sample - loss: 0.1269 - val_loss: 0.1228\n",
      "Epoch 5/100\n",
      "21188/21188 [==============================] - 57s 3ms/sample - loss: 0.1252 - val_loss: 0.1221\n",
      "Epoch 6/100\n",
      "21188/21188 [==============================] - 57s 3ms/sample - loss: 0.1248 - val_loss: 0.1219\n",
      "Epoch 7/100\n",
      "21188/21188 [==============================] - 57s 3ms/sample - loss: 0.1244 - val_loss: 0.1216\n",
      "Epoch 8/100\n",
      "21188/21188 [==============================] - 57s 3ms/sample - loss: 0.1238 - val_loss: 0.1212\n",
      "Epoch 9/100\n",
      "21188/21188 [==============================] - 57s 3ms/sample - loss: 0.1234 - val_loss: 0.1209\n",
      "Epoch 10/100\n",
      "21188/21188 [==============================] - 57s 3ms/sample - loss: 0.1229 - val_loss: 0.1204\n",
      "Epoch 11/100\n",
      "21188/21188 [==============================] - 59s 3ms/sample - loss: 0.1222 - val_loss: 0.1198\n",
      "Epoch 12/100\n",
      "21188/21188 [==============================] - 57s 3ms/sample - loss: 0.1215 - val_loss: 0.1190\n",
      "Epoch 13/100\n",
      "21188/21188 [==============================] - 57s 3ms/sample - loss: 0.1202 - val_loss: 0.1181\n",
      "Epoch 14/100\n",
      "21188/21188 [==============================] - 57s 3ms/sample - loss: 0.1190 - val_loss: 0.1169\n",
      "Epoch 15/100\n",
      "21188/21188 [==============================] - 57s 3ms/sample - loss: 0.1174 - val_loss: 0.1153\n",
      "Epoch 16/100\n",
      "21188/21188 [==============================] - 57s 3ms/sample - loss: 0.1153 - val_loss: 0.1133\n",
      "Epoch 17/100\n",
      "21188/21188 [==============================] - 57s 3ms/sample - loss: 0.1127 - val_loss: 0.1107\n",
      "Epoch 18/100\n",
      "21188/21188 [==============================] - 57s 3ms/sample - loss: 0.1096 - val_loss: 0.1077\n",
      "Epoch 19/100\n",
      "21188/21188 [==============================] - 57s 3ms/sample - loss: 0.1058 - val_loss: 0.1045\n",
      "Epoch 20/100\n",
      "21188/21188 [==============================] - 57s 3ms/sample - loss: 0.1022 - val_loss: 0.1017\n",
      "Epoch 21/100\n",
      "21188/21188 [==============================] - 57s 3ms/sample - loss: 0.0987 - val_loss: 0.0990\n",
      "Epoch 22/100\n",
      "21188/21188 [==============================] - 57s 3ms/sample - loss: 0.0953 - val_loss: 0.0968\n",
      "Epoch 23/100\n",
      "21188/21188 [==============================] - 57s 3ms/sample - loss: 0.0919 - val_loss: 0.0949\n",
      "Epoch 24/100\n",
      "21188/21188 [==============================] - 57s 3ms/sample - loss: 0.0885 - val_loss: 0.0941\n",
      "Epoch 25/100\n",
      "21188/21188 [==============================] - 57s 3ms/sample - loss: 0.0856 - val_loss: 0.0917\n",
      "Epoch 26/100\n",
      "21188/21188 [==============================] - 57s 3ms/sample - loss: 0.0828 - val_loss: 0.0902\n",
      "Epoch 27/100\n",
      "21188/21188 [==============================] - 57s 3ms/sample - loss: 0.0791 - val_loss: 0.0893\n",
      "Epoch 28/100\n",
      "21188/21188 [==============================] - 57s 3ms/sample - loss: 0.0763 - val_loss: 0.0880\n",
      "Epoch 29/100\n",
      "21188/21188 [==============================] - 57s 3ms/sample - loss: 0.0738 - val_loss: 0.0873\n",
      "Epoch 30/100\n",
      "21188/21188 [==============================] - 57s 3ms/sample - loss: 0.0708 - val_loss: 0.0864\n",
      "Epoch 31/100\n",
      "21188/21188 [==============================] - 57s 3ms/sample - loss: 0.0684 - val_loss: 0.0861\n",
      "Epoch 32/100\n",
      "21188/21188 [==============================] - 57s 3ms/sample - loss: 0.0657 - val_loss: 0.0855\n",
      "Epoch 33/100\n",
      "21188/21188 [==============================] - 57s 3ms/sample - loss: 0.0633 - val_loss: 0.0844\n",
      "Epoch 34/100\n",
      "21188/21188 [==============================] - 57s 3ms/sample - loss: 0.0608 - val_loss: 0.0832\n",
      "Epoch 35/100\n",
      "21188/21188 [==============================] - 57s 3ms/sample - loss: 0.0587 - val_loss: 0.0846\n",
      "Epoch 36/100\n",
      "21188/21188 [==============================] - 57s 3ms/sample - loss: 0.0568 - val_loss: 0.0836\n",
      "Epoch 37/100\n",
      "21188/21188 [==============================] - 57s 3ms/sample - loss: 0.0547 - val_loss: 0.0834\n",
      "Epoch 38/100\n",
      "21188/21188 [==============================] - 57s 3ms/sample - loss: 0.0529 - val_loss: 0.0838\n",
      "Epoch 39/100\n",
      "21188/21188 [==============================] - 57s 3ms/sample - loss: 0.0510 - val_loss: 0.0842\n"
     ]
    }
   ],
   "source": [
    "#takes a while to run\n",
    "model = hate_speech_model()\n",
    "model.build_model()\n",
    "model.fit(X_train, y_train, epochs = 100, class_weight = {0: 1, 1: .05, 2: .15})\n",
    "preds = model.predict(X_test)"
   ]
  },
  {
   "cell_type": "code",
   "execution_count": 12,
   "metadata": {},
   "outputs": [
    {
     "name": "stdout",
     "output_type": "stream",
     "text": [
      "0.8671014677571813\n"
     ]
    }
   ],
   "source": [
    "print(metrics.roc_auc_score(y_test, preds))"
   ]
  },
  {
   "cell_type": "code",
   "execution_count": 13,
   "metadata": {},
   "outputs": [],
   "source": [
    "y_true = np.argmax(y_test, axis = 1)\n",
    "y_pred = np.argmax(preds, axis = 1) "
   ]
  },
  {
   "cell_type": "code",
   "execution_count": 14,
   "metadata": {},
   "outputs": [
    {
     "name": "stdout",
     "output_type": "stream",
     "text": [
      "              precision    recall  f1-score   support\n",
      "\n",
      "           0       0.17      0.65      0.27       166\n",
      "           1       0.94      0.81      0.87      1883\n",
      "           2       0.86      0.46      0.60       430\n",
      "\n",
      "    accuracy                           0.74      2479\n",
      "   macro avg       0.65      0.64      0.58      2479\n",
      "weighted avg       0.87      0.74      0.78      2479\n",
      "\n"
     ]
    }
   ],
   "source": [
    "print(metrics.classification_report(y_true, y_pred))"
   ]
  },
  {
   "cell_type": "code",
   "execution_count": 15,
   "metadata": {},
   "outputs": [
    {
     "name": "stdout",
     "output_type": "stream",
     "text": [
      "[[ 108   52    6]\n",
      " [ 338 1518   27]\n",
      " [ 180   53  197]]\n"
     ]
    }
   ],
   "source": [
    "print(metrics.confusion_matrix(y_true, y_pred))"
   ]
  },
  {
   "cell_type": "code",
   "execution_count": null,
   "metadata": {},
   "outputs": [],
   "source": []
  }
 ],
 "metadata": {
  "kernelspec": {
   "display_name": "Python 3",
   "language": "python",
   "name": "python3"
  },
  "language_info": {
   "codemirror_mode": {
    "name": "ipython",
    "version": 3
   },
   "file_extension": ".py",
   "mimetype": "text/x-python",
   "name": "python",
   "nbconvert_exporter": "python",
   "pygments_lexer": "ipython3",
   "version": "3.6.9"
  }
 },
 "nbformat": 4,
 "nbformat_minor": 4
}
